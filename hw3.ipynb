{
  "nbformat": 4,
  "nbformat_minor": 0,
  "metadata": {
    "colab": {
      "provenance": [],
      "authorship_tag": "ABX9TyPpI0sYmnsvOsnJi/FKkb66",
      "include_colab_link": true
    },
    "kernelspec": {
      "name": "python3",
      "display_name": "Python 3"
    },
    "language_info": {
      "name": "python"
    }
  },
  "cells": [
    {
      "cell_type": "markdown",
      "metadata": {
        "id": "view-in-github",
        "colab_type": "text"
      },
      "source": [
        "<a href=\"https://colab.research.google.com/github/GreyIM94/home_work/blob/main/hw3.ipynb\" target=\"_parent\"><img src=\"https://colab.research.google.com/assets/colab-badge.svg\" alt=\"Open In Colab\"/></a>"
      ]
    },
    {
      "cell_type": "markdown",
      "source": [
        "Задание 1. Изменение и сохранение данных\n",
        "1. Считать данные из файла kc_house_data.csv с помощью pandas.\n",
        "2. Добавить новый признак price_per_sqft_living, который будет\n",
        "содержать среднюю стоимость за квадратный метр жилой площади (price /\n",
        "sqft_living).\n",
        "3. Создать новый признак age_of_house, который будет содержать возраст\n",
        "дома (текущий год минус год постройки yr_built).\n",
        "4. Удалить признаки zipcode, lat, long и сохранить измененные данные в\n",
        "новый CSV файл modified_data.csv."
      ],
      "metadata": {
        "id": "Mrvm8z8i08cq"
      }
    },
    {
      "cell_type": "code",
      "execution_count": null,
      "metadata": {
        "id": "IvghgWxJ02BA"
      },
      "outputs": [],
      "source": [
        "import pandas as pd"
      ]
    },
    {
      "cell_type": "code",
      "source": [
        "data = pd.read_csv('kc_house_data.csv')"
      ],
      "metadata": {
        "id": "fv-ig-PY1BnO"
      },
      "execution_count": null,
      "outputs": []
    },
    {
      "cell_type": "code",
      "source": [
        "data['price_per_sqft_living'] = data['price'] / data['sqft_living']"
      ],
      "metadata": {
        "id": "5ujcXmwR1HQG"
      },
      "execution_count": null,
      "outputs": []
    },
    {
      "cell_type": "code",
      "source": [
        "current_year = pd.to_datetime('today').year\n",
        "data['age_of_house'] = current_year - data['yr_built']"
      ],
      "metadata": {
        "id": "8O4UxkV41Xnv"
      },
      "execution_count": null,
      "outputs": []
    },
    {
      "cell_type": "code",
      "source": [
        "data['year_ch'] = pd.to_datetime(data['date'],format='%Y%m%dT000000').dt.year\n",
        "data['month_ch'] = pd.to_datetime(data['date'],format='%Y%m%dT000000').dt.month"
      ],
      "metadata": {
        "id": "hEjujZVk1cCx"
      },
      "execution_count": null,
      "outputs": []
    },
    {
      "cell_type": "code",
      "source": [
        "data_cleaned = data.drop(columns=['date', 'zipcode', 'lat', 'long'])"
      ],
      "metadata": {
        "id": "arbqEBaW1ycd"
      },
      "execution_count": null,
      "outputs": []
    },
    {
      "cell_type": "code",
      "source": [
        "data_cleaned.to_csv('modified_data.csv', index=False)"
      ],
      "metadata": {
        "id": "rwf89BfJ2POV"
      },
      "execution_count": null,
      "outputs": []
    },
    {
      "cell_type": "markdown",
      "source": [
        "Задача 2. Интересные объекты недвижимости\n",
        "1. Считать данные из файла kc_house_data.csv.\n",
        "2. Найти дома с видом на набережную, стоимостью выше 500000 и более чем\n",
        "2000 квадратных метров жилой площади.\n",
        "3. Сохранить информацию о таких домах в новый CSV файл."
      ],
      "metadata": {
        "id": "MvGcZQ195Yaz"
      }
    },
    {
      "cell_type": "code",
      "source": [
        "data = pd.read_csv('kc_house_data.csv')"
      ],
      "metadata": {
        "id": "IR8GkYEb2iTX"
      },
      "execution_count": null,
      "outputs": []
    },
    {
      "cell_type": "code",
      "source": [
        "filtered_homes = data[(data['waterfront'] == 1) & (data['price'] > 500000) & (data['sqft_living'] > 2000)]"
      ],
      "metadata": {
        "id": "I3TWP7kG5equ"
      },
      "execution_count": null,
      "outputs": []
    },
    {
      "cell_type": "code",
      "source": [
        "filtered_homes.to_csv('high_valuew_waterfront_home_csv', index=False)"
      ],
      "metadata": {
        "id": "lPt_lzn75rgg"
      },
      "execution_count": null,
      "outputs": []
    },
    {
      "cell_type": "markdown",
      "source": [
        "Задача 3. Анализ жилых и общих площадей\n",
        "1. Считать данные из файла kc_house_data.csv.\n",
        "2. Построить DataFrame с колонками sqft_living, condition и price.\n",
        "3. Определить среднюю стоимость за квадратный метр жилой площади для\n",
        "разных состояний домов и сохраните в текстовый файл"
      ],
      "metadata": {
        "id": "DWFm5sFl56n2"
      }
    },
    {
      "cell_type": "code",
      "source": [
        "data = pd.read_csv('kc_house_data.csv')"
      ],
      "metadata": {
        "id": "crdan0zo52ML"
      },
      "execution_count": null,
      "outputs": []
    },
    {
      "cell_type": "code",
      "source": [
        "data['ratio'] = data['sqft_living'] / data['sqft_lot']"
      ],
      "metadata": {
        "id": "Wf5pCOSx6Ab9"
      },
      "execution_count": null,
      "outputs": []
    },
    {
      "cell_type": "code",
      "source": [
        "mean_ratio = data['ratio'].mean()"
      ],
      "metadata": {
        "id": "KD22qhp66HAh"
      },
      "execution_count": null,
      "outputs": []
    },
    {
      "cell_type": "code",
      "source": [
        "with open('living_vs_lot_analysis.txt', 'w') as f:\n",
        "  f.write(f'Срднее соотношение жилой площади к общей площади: {mean_ratio}\\n')"
      ],
      "metadata": {
        "id": "sWWOD49C6KAM"
      },
      "execution_count": null,
      "outputs": []
    },
    {
      "cell_type": "markdown",
      "source": [
        "Задача 4. Информация о клиентах и их покупках\n",
        "1. Создайте датафрейм с покупками и сохраните его в переменную purchases.\n",
        "purchases = pd.DataFrame({\n",
        "'purchase_id': [2001, 2002, 2003, 2004, 2005],\n",
        "'client_id': [1001, 1002, 1003, 1001, 1005],\n",
        "'house_id': [1234567890, 9876543210, 4567891230, 5566778899, 1122334455]\n",
        "})\n",
        "2. Создайте датафрейм с информацией о клиентах и сохраните его в переменную\n",
        "clients_info.\n",
        "clients_info = pd.DataFrame({\n",
        "'client_id': [1001, 1002, 1003, 1004, 1005],\n",
        "'name': ['Alice', 'Bob', 'Charlie', 'David', 'Eve'],\n",
        "'age': [30, 40, 35, 45, 50]\n",
        "})\n",
        "3. Присоедините информацию о клиентах к таблице purchases через метод join\n",
        "и сохраните в переменную purchases_with_info.\n",
        "4. Присоедините информацию о клиентах к таблице purchases через метод\n",
        "merge и сохраните в переменную purchases_with_info_merged.\n",
        "5. Сохраните результаты в CSV файлы purchases_with_info.csv и\n",
        "purchases_with_info_merged.csv"
      ],
      "metadata": {
        "id": "HNTnbwR-6pMx"
      }
    },
    {
      "cell_type": "code",
      "source": [
        "purchases = pd.DataFrame({'purchase_id': [2001, 2002, 2003, 2004, 2005],\n",
        "                           'client_id': [1001, 1002, 1003, 1001, 1005],\n",
        "                          'house_id': [1234567890, 9876543210, 4567891230, 5566778899, 1122334455]})"
      ],
      "metadata": {
        "id": "YQY87EEq6eeO"
      },
      "execution_count": null,
      "outputs": []
    },
    {
      "cell_type": "code",
      "source": [
        "clients_info = pd.DataFrame({'client_id': [1001, 1002, 1003, 1004, 1005],\n",
        "                             'name': ['Alice', 'Bob', 'Charlie', 'David', 'Eve'],\n",
        "                             'age': [30, 40, 35, 45, 50]})"
      ],
      "metadata": {
        "id": "jW6gMJty7UOy"
      },
      "execution_count": null,
      "outputs": []
    },
    {
      "cell_type": "code",
      "source": [
        "purchases_with_info = purchases.join(clients_info.set_index('client_id'), on='client_id')"
      ],
      "metadata": {
        "id": "a8Dx_e4L7_6B"
      },
      "execution_count": null,
      "outputs": []
    },
    {
      "cell_type": "code",
      "source": [
        "purchases_with_info_merged = purchases.merge(clients_info, on='client_id')"
      ],
      "metadata": {
        "id": "Txa5YKZx8FWe"
      },
      "execution_count": null,
      "outputs": []
    },
    {
      "cell_type": "code",
      "source": [
        "purchases_with_info.to_csv('purchases_with_info.csv', index=False)\n",
        "purchases_with_info_merged.to_csv('purchases_with_info_merged.csv', index=False)"
      ],
      "metadata": {
        "id": "e2jYP0OB8ILp"
      },
      "execution_count": null,
      "outputs": []
    },
    {
      "cell_type": "code",
      "source": [],
      "metadata": {
        "id": "rd5blvjW8LGq"
      },
      "execution_count": null,
      "outputs": []
    }
  ]
}